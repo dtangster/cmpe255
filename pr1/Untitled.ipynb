{
 "cells": [
  {
   "cell_type": "code",
   "execution_count": 4,
   "metadata": {},
   "outputs": [
    {
     "name": "stdout",
     "output_type": "stream",
     "text": [
      "/bin/sh: {sys.executable}: command not found\r\n"
     ]
    },
    {
     "ename": "ModuleNotFoundError",
     "evalue": "No module named 'cv2'",
     "output_type": "error",
     "traceback": [
      "\u001b[0;31m---------------------------------------------------------------------------\u001b[0m",
      "\u001b[0;31mModuleNotFoundError\u001b[0m                       Traceback (most recent call last)",
      "\u001b[0;32m<ipython-input-4-b5173e80e5fc>\u001b[0m in \u001b[0;36m<module>\u001b[0;34m\u001b[0m\n\u001b[1;32m      3\u001b[0m \u001b[0;34m\u001b[0m\u001b[0m\n\u001b[1;32m      4\u001b[0m \u001b[0mget_ipython\u001b[0m\u001b[0;34m(\u001b[0m\u001b[0;34m)\u001b[0m\u001b[0;34m.\u001b[0m\u001b[0msystem\u001b[0m\u001b[0;34m(\u001b[0m\u001b[0;34m'{sys.executable} -m pip install opencv-python'\u001b[0m\u001b[0;34m)\u001b[0m\u001b[0;34m\u001b[0m\u001b[0;34m\u001b[0m\u001b[0m\n\u001b[0;32m----> 5\u001b[0;31m \u001b[0;32mimport\u001b[0m \u001b[0mcv2\u001b[0m\u001b[0;34m\u001b[0m\u001b[0;34m\u001b[0m\u001b[0m\n\u001b[0m\u001b[1;32m      6\u001b[0m \u001b[0;32mfrom\u001b[0m \u001b[0mnumpy\u001b[0m \u001b[0;32mimport\u001b[0m \u001b[0margmax\u001b[0m\u001b[0;34m,\u001b[0m \u001b[0mlinalg\u001b[0m\u001b[0;34m,\u001b[0m \u001b[0mvstack\u001b[0m\u001b[0;34m\u001b[0m\u001b[0;34m\u001b[0m\u001b[0m\n\u001b[1;32m      7\u001b[0m \u001b[0;32mfrom\u001b[0m \u001b[0msklearn\u001b[0m\u001b[0;34m.\u001b[0m\u001b[0mrandom_projection\u001b[0m \u001b[0;32mimport\u001b[0m \u001b[0mGaussianRandomProjection\u001b[0m\u001b[0;34m\u001b[0m\u001b[0;34m\u001b[0m\u001b[0m\n",
      "\u001b[0;31mModuleNotFoundError\u001b[0m: No module named 'cv2'"
     ]
    }
   ],
   "source": [
    "from functools import partial\n",
    "import os\n",
    "\n",
    "!{sys.executable} -m pip install opencv-python\n",
    "import cv2\n",
    "from numpy import argmax, linalg, vstack\n",
    "from sklearn.random_projection import GaussianRandomProjection\n",
    "\n",
    "\n",
    "def load_images(folder):\n",
    "    histograms = []\n",
    "    for filename in os.listdir(folder)[:2]:\n",
    "        abs_path = os.path.join(folder, filename)\n",
    "        image = cv2.imread(abs_path, 0)\n",
    "        histograms.append(\n",
    "            #cv2.calcHist([image], [0], None, [256], [0, 256]).reshape((256,))\n",
    "            cv2.calcHist([image], [0], None, [256], [0, 256]).T[0]\n",
    "        )\n",
    "    #print(histograms[0])\n",
    "    return vstack(histograms)\n",
    "\n",
    "\n",
    "def load_labels(filename):\n",
    "    with open(filename) as f:\n",
    "        return list(\n",
    "            filter(\n",
    "                None,\n",
    "                f.read().split('\\n')\n",
    "            )\n",
    "        )\n",
    "\n",
    "\n",
    "def cos_sim(v1, v2):\n",
    "    v1_dot = v1 * v1.T\n",
    "    v2_dot = v2 * v2.T\n",
    "    dot_product = v1 * v2.T\n",
    "    return dot_product / (v1_dot * v2_dot)\n",
    "\n",
    "\n",
    "def random_projection(histograms):\n",
    "    transformer = GaussianRandomProjection(n_components=64)\n",
    "    return transformer.fit_transform(histograms)\n",
    "\n",
    "\n",
    "def classify(train_data, test_data, labels, reduce_func=random_projection):\n",
    "    train_data = reduce_func(train_data)\n",
    "    print(train_data)\n",
    "    train_data_norms = linalg.norm(train_data, axis=1)\n",
    "    print(train_data_norms)\n",
    "    print(train_data_norms.shape)\n",
    "    train_data /= train_data_norms\n",
    "    test_data = reduce_func(test_data)\n",
    "    test_data_norms = linalg.norm(test_data, axis=1)\n",
    "    test_data /= test_data_norms\n",
    "    for obj in test_data:\n",
    "        knn(train_data, obj, k=3)\n",
    "\n",
    "\n",
    "def knn(train_data, labels, obj):\n",
    "    sims = train_data * obj.T\n",
    "    print(sims)\n",
    "\n",
    "\n",
    "train_labels = load_labels('./train.labels')\n",
    "test_labels = load_labels('./test.labels')\n",
    "histograms = load_images('/Users/dtang/data/pr2/train')"
   ]
  },
  {
   "cell_type": "code",
   "execution_count": null,
   "metadata": {},
   "outputs": [],
   "source": []
  }
 ],
 "metadata": {
  "kernelspec": {
   "display_name": "Python 3",
   "language": "python",
   "name": "python3"
  },
  "language_info": {
   "codemirror_mode": {
    "name": "ipython",
    "version": 3
   },
   "file_extension": ".py",
   "mimetype": "text/x-python",
   "name": "python",
   "nbconvert_exporter": "python",
   "pygments_lexer": "ipython3",
   "version": "3.7.1"
  }
 },
 "nbformat": 4,
 "nbformat_minor": 2
}

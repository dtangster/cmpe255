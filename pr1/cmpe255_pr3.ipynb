{
 "cells": [
  {
   "cell_type": "code",
   "execution_count": 1,
   "metadata": {},
   "outputs": [],
   "source": [
    "import matplotlib.pyplot as plt\n",
    "import networkx\n",
    "import numpy\n",
    "from scipy.sparse import csr_matrix\n",
    "from sklearn.cluster import MiniBatchKMeans\n",
    "from sklearn.decomposition import TruncatedSVD\n",
    "from sklearn.metrics.pairwise import cosine_similarity\n",
    "\n",
    "\n",
    "def load_csr_dataset(filename):\n",
    "    ptr = [0]\n",
    "    idx = []\n",
    "    val = []\n",
    "    with open(filename) as f:\n",
    "        lines = f.readlines()\n",
    "    for line in lines:\n",
    "        line = line.split()\n",
    "        length = len(line)\n",
    "        for i in range(1, length, 2):\n",
    "            idx.append(line[i-1])\n",
    "            val.append(line[i])\n",
    "        ptr.append(ptr[-1] + length / 2)\n",
    "    return csr_matrix((val, idx, ptr), dtype=numpy.double)\n",
    "\n",
    "\n",
    "def svd(data, new_dimension):\n",
    "    transformer = TruncatedSVD(n_components=new_dimension)\n",
    "    return transformer.fit_transform(data)\n",
    "\n",
    "\n",
    "def dbscan(clusters, min_pts, eps):\n",
    "    neighborhoods = []\n",
    "    core = []\n",
    "    border = []\n",
    "    noise = []\n",
    "\n",
    "    # Treat the centroid of each cluster as a point\n",
    "    points = clusters.cluster_centers_\n",
    "    cos_sims = cosine_similarity(points)\n",
    "\n",
    "    # Find core points\n",
    "    for i in range(len(points)):\n",
    "        neighbors = []\n",
    "        for p in range(len(points)):\n",
    "            # If the distance is below eps, p is a neighbor\n",
    "            if cos_sims[i][p] >= eps:\n",
    "                neighbors.append(p)\n",
    "        neighborhoods.append(neighbors)\n",
    "        # If neighborhood has at least min_pts, i is a core point\n",
    "        if len(neighbors) >= min_pts:\n",
    "            core.append(i)\n",
    "\n",
    "    print(\"core: \", core, len(core))\n",
    "\n",
    "    # Find border points\n",
    "    for i in range(len(points)):\n",
    "        neighbors = neighborhoods[i]\n",
    "        # Look at points that are not core points\n",
    "        if len(neighbors) < min_pts:\n",
    "            for j in range(len(neighbors)):\n",
    "                # If one of its neighbors is a core, it is also in the core point's neighborhood,\n",
    "                # thus it is a border point rather than a noise point\n",
    "                if neighbors[j] in core:\n",
    "                    border.append(i)\n",
    "                    # Need at least one core point...\n",
    "                    break\n",
    "\n",
    "    print(\"border: \", border, len(border))\n",
    "\n",
    "    # Find noise points\n",
    "    for i in range(len(points)):\n",
    "        if i not in core and i not in border:\n",
    "            noise.append(i)\n",
    "\n",
    "    print(\"noise\", noise, len(noise))\n",
    "\n",
    "    nodes = core + border\n",
    "    graph = networkx.Graph()\n",
    "    graph.add_nodes_from(nodes)\n",
    "\n",
    "    # Create neighborhood\n",
    "    for i in range(len(nodes)):\n",
    "        for p in range(len(nodes)):\n",
    "            # If the distance is below the threshold, add a link in the graph.\n",
    "            if p != i and cos_sims[i][p] >= eps:\n",
    "                graph.add_edges_from([(nodes[i], nodes[p])])\n",
    "\n",
    "    return list(networkx.connected_components(graph))\n",
    "\n",
    "\n",
    "def output_results(clusters, clusters_refined, filename):\n",
    "    outliers_cluster = len(clusters_refined) + 1\n",
    "    with open(filename, 'w') as f:\n",
    "        for c in clusters.labels_:\n",
    "            found = False\n",
    "            for i, cr in enumerate(clusters_refined):\n",
    "                if c in cr:\n",
    "                    f.write(str(i+1) + '\\n')\n",
    "                    found = True\n",
    "                    continue\n",
    "            if not found:\n",
    "                f.write(str(outliers_cluster) + '\\n')"
   ]
  },
  {
   "cell_type": "code",
   "execution_count": 2,
   "metadata": {},
   "outputs": [
    {
     "name": "stdout",
     "output_type": "stream",
     "text": [
      "Shape:  (8580, 126356)\n"
     ]
    }
   ],
   "source": [
    "csr = load_csr_dataset('train_pr3.dat')\n",
    "print(\"Shape: \", csr.shape)"
   ]
  },
  {
   "cell_type": "code",
   "execution_count": 3,
   "metadata": {},
   "outputs": [
    {
     "name": "stdout",
     "output_type": "stream",
     "text": [
      "KMeans clusters: [ 45 191 120 ... 191 291  29] 8580\n"
     ]
    }
   ],
   "source": [
    "#csr = svd(csr, 500)\n",
    "clusters = MiniBatchKMeans(n_clusters=300).fit(csr)\n",
    "print(\"KMeans clusters:\", clusters.labels_, len(clusters.labels_))"
   ]
  },
  {
   "cell_type": "code",
   "execution_count": 11,
   "metadata": {},
   "outputs": [
    {
     "name": "stdout",
     "output_type": "stream",
     "text": [
      "core:  [2, 3, 4, 6, 8, 10, 12, 13, 14, 15, 17, 19, 20, 21, 22, 23, 24, 25, 26, 27, 28, 29, 30, 31, 32, 33, 34, 35, 37, 38, 39, 40, 41, 42, 43, 45, 47, 48, 49, 50, 53, 56, 57, 58, 59, 60, 63, 65, 69, 70, 72, 74, 75, 76, 77, 79, 81, 82, 84, 85, 86, 89, 90, 92, 95, 97, 98, 99, 100, 102, 104, 105, 109, 113, 114, 115, 116, 117, 118, 120, 121, 122, 125, 130, 133, 134, 136, 137, 138, 139, 142, 143, 145, 146, 147, 152, 153, 154, 155, 157, 160, 161, 162, 163, 164, 167, 168, 169, 170, 171, 172, 174, 178, 179, 180, 184, 185, 186, 187, 189, 190, 191, 192, 193, 194, 198, 199, 200, 202, 203, 205, 206, 207, 210, 211, 214, 216, 217, 218, 219, 221, 223, 225, 228, 230, 231, 233, 235, 238, 243, 245, 246, 248, 249, 255, 256, 257, 260, 262, 265, 266, 267, 269, 271, 272, 273, 275, 279, 280, 281, 283, 284, 286, 287, 288, 289, 290, 291, 292, 293, 294, 295, 296, 297, 299] 185\n",
      "border:  [5, 7, 11, 16, 55, 61, 62, 64, 78, 87, 88, 91, 101, 103, 106, 107, 112, 119, 123, 128, 132, 144, 149, 150, 156, 158, 173, 177, 183, 188, 195, 197, 201, 209, 212, 213, 232, 236, 239, 240, 241, 242, 247, 250, 252, 253, 264, 270, 274, 276, 278, 285] 52\n",
      "noise [0, 1, 9, 18, 36, 44, 46, 51, 52, 54, 66, 67, 68, 71, 73, 80, 83, 93, 94, 96, 108, 110, 111, 124, 126, 127, 129, 131, 135, 140, 141, 148, 151, 159, 165, 166, 175, 176, 181, 182, 196, 204, 208, 215, 220, 222, 224, 226, 227, 229, 234, 237, 244, 251, 254, 258, 259, 261, 263, 268, 277, 282, 298] 63\n",
      "# clusters: 54\n",
      "clusters:  [{2}, {3, 172}, {4, 5, 6, 7, 8, 10, 11, 12, 13, 14, 16, 17, 19, 20, 21, 22, 23, 24, 25, 27, 28, 29, 30, 31, 32, 33, 34, 35, 37, 38, 39, 40, 41, 42, 43, 45, 48, 49, 50, 53, 55, 56, 57, 58, 60, 61, 62, 64, 65, 70, 72, 76, 78, 79, 81, 82, 84, 85, 86, 87, 88, 90, 92, 95, 97, 100, 101, 102, 103, 104, 106, 107, 109, 112, 114, 115, 116, 117, 119, 120, 122, 123, 125, 132, 133, 134, 136, 137, 138, 139, 142, 143, 144, 145, 149, 152, 154, 155, 156, 157, 158, 160, 161, 162, 163, 164, 167, 168, 171, 173, 179, 180, 183, 184, 185, 186, 187, 188, 189, 190, 191, 192, 193, 197, 198, 199, 201, 205, 207, 209, 210, 211, 212, 216, 217, 218, 219, 225, 228, 231, 232, 233, 235, 239, 241, 243, 248, 249, 250, 253, 255, 256, 257, 260, 264, 266, 267, 269, 271, 272, 274, 278, 279, 280, 281, 283, 284, 285, 286, 287, 288, 291, 292, 293, 294, 297, 299}, {15}, {26}, {98, 130, 47}, {59}, {63}, {69}, {74}, {275, 75}, {77}, {89}, {99}, {105}, {113}, {118}, {121}, {146}, {147}, {153}, {169}, {170}, {174, 238}, {178}, {194}, {200}, {202}, {203}, {206}, {214}, {221}, {223}, {230}, {245}, {246, 262}, {265}, {273}, {289}, {290}, {295}, {296, 150}, {91}, {128}, {177}, {195}, {213}, {236}, {240}, {242}, {247}, {252}, {270}, {276}]\n",
      "<class 'set'>\n"
     ]
    }
   ],
   "source": [
    "clusters_refined = dbscan(clusters, 5, 0.35)\n",
    "print(\"# clusters:\", len(clusters_refined))\n",
    "print(\"clusters: \", clusters_refined)\n",
    "print(type(clusters_refined[0]))"
   ]
  },
  {
   "cell_type": "code",
   "execution_count": 19,
   "metadata": {},
   "outputs": [
    {
     "name": "stdout",
     "output_type": "stream",
     "text": [
      "['AmbiguousSolution', 'DiGraph', 'ExceededMaxIterations', 'Graph', 'GraphMLReader', 'GraphMLWriter', 'HasACycle', 'LCF_graph', 'MultiDiGraph', 'MultiGraph', 'NetworkXAlgorithmError', 'NetworkXError', 'NetworkXException', 'NetworkXNoCycle', 'NetworkXNoPath', 'NetworkXNotImplemented', 'NetworkXPointlessConcept', 'NetworkXTreewidthBoundExceeded', 'NetworkXUnbounded', 'NetworkXUnfeasible', 'NodeNotFound', 'NotATree', 'OrderedDiGraph', 'OrderedGraph', 'OrderedMultiDiGraph', 'OrderedMultiGraph', 'PlanarEmbedding', 'PowerIterationFailedConvergence', '__author__', '__bibtex__', '__builtins__', '__cached__', '__date__', '__doc__', '__file__', '__license__', '__loader__', '__name__', '__package__', '__path__', '__spec__', '__version__', 'absolute_import', 'adamic_adar_index', 'add_cycle', 'add_path', 'add_star', 'adj_matrix', 'adjacency', 'adjacency_data', 'adjacency_graph', 'adjacency_matrix', 'adjacency_spectrum', 'adjlist', 'algebraic_connectivity', 'algebraicconnectivity', 'algorithms', 'all', 'all_neighbors', 'all_node_cuts', 'all_pairs_bellman_ford_path', 'all_pairs_bellman_ford_path_length', 'all_pairs_dijkstra', 'all_pairs_dijkstra_path', 'all_pairs_dijkstra_path_length', 'all_pairs_lowest_common_ancestor', 'all_pairs_node_connectivity', 'all_pairs_shortest_path', 'all_pairs_shortest_path_length', 'all_shortest_paths', 'all_simple_paths', 'all_topological_sorts', 'ancestors', 'antichains', 'approximate_current_flow_betweenness_centrality', 'articulation_points', 'assortativity', 'astar', 'astar_path', 'astar_path_length', 'atlas', 'attr_matrix', 'attr_sparse_matrix', 'attracting', 'attracting_component_subgraphs', 'attracting_components', 'attribute_assortativity_coefficient', 'attribute_mixing_dict', 'attribute_mixing_matrix', 'attrmatrix', 'authority_matrix', 'average_clustering', 'average_degree_connectivity', 'average_neighbor_degree', 'average_node_connectivity', 'average_shortest_path_length', 'balanced_tree', 'barabasi_albert_graph', 'barbell_graph', 'beamsearch', 'bellman_ford_path', 'bellman_ford_path_length', 'bellman_ford_predecessor_and_distance', 'betweenness', 'betweenness_centrality', 'betweenness_centrality_source', 'betweenness_centrality_subset', 'betweenness_subset', 'bfs_beam_edges', 'bfs_edges', 'bfs_predecessors', 'bfs_successors', 'bfs_tree', 'biconnected', 'biconnected_component_edges', 'biconnected_component_subgraphs', 'biconnected_components', 'bidirectional_dijkstra', 'bidirectional_shortest_path', 'binary', 'binomial_graph', 'bipartite', 'bipartite_layout', 'boundary', 'boundary_expansion', 'breadth_first_search', 'bridges', 'bull_graph', 'capacity_scaling', 'cartesian_product', 'caveman_graph', 'center', 'centrality', 'chain_decomposition', 'chains', 'check_planarity', 'chordal', 'chordal_cycle_graph', 'chordal_graph_cliques', 'chordal_graph_treewidth', 'chvatal_graph', 'circulant_graph', 'circular_ladder_graph', 'circular_layout', 'classes', 'classic', 'clique', 'cliques_containing_node', 'closeness', 'closeness_centrality', 'closeness_vitality', 'cluster', 'clustering', 'cn_soundarajan_hopcroft', 'coloring', 'common_neighbors', 'communicability', 'communicability_alg', 'communicability_betweenness_centrality', 'communicability_exp', 'community', 'complement', 'complete_bipartite_graph', 'complete_graph', 'complete_multipartite_graph', 'components', 'compose', 'compose_all', 'condensation', 'conductance', 'configuration_model', 'connected', 'connected_caveman_graph', 'connected_component_subgraphs', 'connected_components', 'connected_double_edge_swap', 'connected_watts_strogatz_graph', 'connectivity', 'constraint', 'contracted_edge', 'contracted_nodes', 'convert', 'convert_matrix', 'convert_node_labels_to_integers', 'core', 'core_number', 'coreviews', 'correlation', 'cost_of_flow', 'could_be_isomorphic', 'covering', 'create_empty_copy', 'cubical_graph', 'current_flow_betweenness', 'current_flow_betweenness_centrality', 'current_flow_betweenness_centrality_subset', 'current_flow_betweenness_subset', 'current_flow_closeness', 'current_flow_closeness_centrality', 'cut_size', 'cuts', 'cycle_basis', 'cycle_graph', 'cycles', 'cytoscape', 'cytoscape_data', 'cytoscape_graph', 'dag', 'dag_longest_path', 'dag_longest_path_length', 'dag_to_branching', 'davis_southern_women_graph', 'degree', 'degree_alg', 'degree_assortativity_coefficient', 'degree_centrality', 'degree_histogram', 'degree_mixing_dict', 'degree_mixing_matrix', 'degree_pearson_correlation_coefficient', 'degree_seq', 'degree_sequence_tree', 'dense', 'dense_gnm_random_graph', 'density', 'depth_first_search', 'desargues_graph', 'descendants', 'dfs_edges', 'dfs_labeled_edges', 'dfs_postorder_nodes', 'dfs_predecessors', 'dfs_preorder_nodes', 'dfs_successors', 'dfs_tree', 'diameter', 'diamond_graph', 'difference', 'digraph', 'dijkstra_path', 'dijkstra_path_length', 'dijkstra_predecessor_and_distance', 'directed', 'directed_configuration_model', 'directed_havel_hakimi_graph', 'directed_laplacian_matrix', 'directed_modularity_matrix', 'disjoint_union', 'disjoint_union_all', 'dispersion', 'distance_measures', 'distance_regular', 'dodecahedral_graph', 'dominance', 'dominance_frontiers', 'dominating', 'dominating_set', 'dorogovtsev_goltsev_mendes_graph', 'double_edge_swap', 'draw', 'draw_circular', 'draw_kamada_kawai', 'draw_networkx', 'draw_networkx_edge_labels', 'draw_networkx_edges', 'draw_networkx_labels', 'draw_networkx_nodes', 'draw_random', 'draw_shell', 'draw_spectral', 'draw_spring', 'drawing', 'duplication', 'duplication_divergence_graph', 'eccentricity', 'edge_betweenness', 'edge_betweenness_centrality', 'edge_betweenness_centrality_subset', 'edge_bfs', 'edge_boundary', 'edge_connectivity', 'edge_current_flow_betweenness_centrality', 'edge_current_flow_betweenness_centrality_subset', 'edge_dfs', 'edge_disjoint_paths', 'edge_expansion', 'edge_load_centrality', 'edge_subgraph', 'edgebfs', 'edgedfs', 'edgelist', 'edges', 'effective_size', 'efficiency', 'ego', 'ego_graph', 'eigenvector', 'eigenvector_centrality', 'eigenvector_centrality_numpy', 'empty_graph', 'enumerate_all_cliques', 'erdos_renyi_graph', 'estrada_index', 'euler', 'eulerian_circuit', 'eulerize', 'exception', 'expanders', 'expected_degree_graph', 'extended_barabasi_albert_graph', 'extrema_bounding', 'fast_could_be_isomorphic', 'fast_gnp_random_graph', 'faster_could_be_isomorphic', 'fiedler_vector', 'filters', 'find_cliques', 'find_cliques_recursive', 'find_cores', 'find_cycle', 'find_induced_nodes', 'florentine_families_graph', 'flow', 'flow_hierarchy', 'flow_matrix', 'floyd_warshall', 'floyd_warshall_numpy', 'floyd_warshall_predecessor_and_distance', 'freeze', 'from_dict_of_dicts', 'from_dict_of_lists', 'from_edgelist', 'from_graph6_bytes', 'from_nested_tuple', 'from_numpy_array', 'from_numpy_matrix', 'from_pandas_adjacency', 'from_pandas_edgelist', 'from_prufer_sequence', 'from_scipy_sparse_matrix', 'from_sparse6_bytes', 'frucht_graph', 'fruchterman_reingold_layout', 'full_rary_tree', 'function', 'gaussian_random_partition_graph', 'general_random_intersection_graph', 'generalized_degree', 'generate_adjlist', 'generate_edgelist', 'generate_gexf', 'generate_gml', 'generate_graphml', 'generate_multiline_adjlist', 'generate_pajek', 'generators', 'generic', 'geographical_threshold_graph', 'geometric', 'get_edge_attributes', 'get_node_attributes', 'gexf', 'global_efficiency', 'global_parameters', 'global_reaching_centrality', 'gml', 'gn_graph', 'gnc_graph', 'gnm_random_graph', 'gnp_random_graph', 'gnr_graph', 'goldberg_radzik', 'gomory_hu_tree', 'google_matrix', 'gpickle', 'graph', 'graph6', 'graph_atlas', 'graph_atlas_g', 'graph_clique_number', 'graph_edit_distance', 'graph_number_of_cliques', 'graphical', 'graphmatrix', 'graphml', 'graphviews', 'greedy_color', 'grid_2d_graph', 'grid_graph', 'harmonic', 'harmonic_centrality', 'has_bridges', 'has_path', 'havel_hakimi_graph', 'heawood_graph', 'hexagonal_lattice_graph', 'hierarchy', 'hits', 'hits_alg', 'hits_numpy', 'hits_scipy', 'hoffman_singleton_graph', 'house_graph', 'house_x_graph', 'hub_matrix', 'hybrid', 'hypercube_graph', 'icosahedral_graph', 'identified_nodes', 'immediate_dominators', 'in_degree_centrality', 'incidence_matrix', 'induced_subgraph', 'info', 'information_centrality', 'intersection', 'intersection_all', 'intersection_array', 'inverse_line_graph', 'is_aperiodic', 'is_arborescence', 'is_attracting_component', 'is_biconnected', 'is_bipartite', 'is_branching', 'is_chordal', 'is_connected', 'is_digraphical', 'is_directed', 'is_directed_acyclic_graph', 'is_distance_regular', 'is_dominating_set', 'is_edge_cover', 'is_empty', 'is_eulerian', 'is_forest', 'is_frozen', 'is_graphical', 'is_isolate', 'is_isomorphic', 'is_k_edge_connected', 'is_kl_connected', 'is_matching', 'is_maximal_matching', 'is_multigraphical', 'is_negatively_weighted', 'is_perfect_matching', 'is_pseudographical', 'is_semiconnected', 'is_simple_path', 'is_strongly_connected', 'is_strongly_regular', 'is_tree', 'is_valid_degree_sequence_erdos_gallai', 'is_valid_degree_sequence_havel_hakimi', 'is_valid_joint_degree', 'is_weakly_connected', 'is_weighted', 'isolate', 'isolates', 'isomorphism', 'jaccard_coefficient', 'jit', 'jit_data', 'jit_graph', 'johnson', 'join', 'joint_degree_graph', 'joint_degree_seq', 'json_graph', 'k_components', 'k_core', 'k_corona', 'k_crust', 'k_edge_augmentation', 'k_edge_components', 'k_edge_subgraphs', 'k_nearest_neighbors', 'k_random_intersection_graph', 'k_shell', 'kamada_kawai_layout', 'karate_club_graph', 'katz', 'katz_centrality', 'katz_centrality_numpy', 'kl_connected_subgraph', 'kosaraju_strongly_connected_components', 'krackhardt_kite_graph', 'ladder_graph', 'laplacian_matrix', 'laplacian_spectrum', 'laplacianmatrix', 'lattice', 'lattice_reference', 'layout', 'leda', 'lexicographic_product', 'lexicographical_topological_sort', 'linalg', 'line', 'line_graph', 'link_analysis', 'link_prediction', 'load', 'load_centrality', 'local_bridges', 'local_constraint', 'local_efficiency', 'local_reaching_centrality', 'lollipop_graph', 'lowest_common_ancestor', 'lowest_common_ancestors', 'make_clique_bipartite', 'make_max_clique_graph', 'make_small_graph', 'margulis_gabber_galil_graph', 'matching', 'max_flow_min_cost', 'max_weight_matching', 'maximal_independent_set', 'maximal_matching', 'maximum_branching', 'maximum_flow', 'maximum_flow_value', 'maximum_spanning_arborescence', 'maximum_spanning_edges', 'maximum_spanning_tree', 'min_cost_flow', 'min_cost_flow_cost', 'min_edge_cover', 'minimum_branching', 'minimum_cut', 'minimum_cut_value', 'minimum_cycle_basis', 'minimum_edge_cut', 'minimum_node_cut', 'minimum_spanning_arborescence', 'minimum_spanning_edges', 'minimum_spanning_tree', 'minors', 'mis', 'mixing', 'mixing_dict', 'mixing_expansion', 'modularity_matrix', 'modularity_spectrum', 'modularitymatrix', 'moebius_kantor_graph', 'multi_source_dijkstra', 'multi_source_dijkstra_path', 'multi_source_dijkstra_path_length', 'multidigraph', 'multigraph', 'multiline_adjlist', 'mycielski', 'mycielski_graph', 'mycielskian', 'navigable_small_world_graph', 'negative_edge_cycle', 'neighbor_degree', 'neighbors', 'network_simplex', 'networkx', 'newman_watts_strogatz_graph', 'node_attribute_xy', 'node_boundary', 'node_classification', 'node_clique_number', 'node_connected_component', 'node_connectivity', 'node_degree_xy', 'node_disjoint_paths', 'node_expansion', 'node_link', 'node_link_data', 'node_link_graph', 'nodes', 'nodes_with_selfloops', 'non_edges', 'non_neighbors', 'nonisomorphic_trees', 'normalized_cut_size', 'normalized_laplacian_matrix', 'not_implemented_for', 'null_graph', 'number_attracting_components', 'number_connected_components', 'number_of_cliques', 'number_of_edges', 'number_of_isolates', 'number_of_nodes', 'number_of_nonisomorphic_trees', 'number_of_selfloops', 'number_strongly_connected_components', 'number_weakly_connected_components', 'numeric_assortativity_coefficient', 'numeric_mixing_matrix', 'nx', 'nx_agraph', 'nx_pydot', 'nx_pylab', 'nx_shp', 'nx_yaml', 'octahedral_graph', 'omega', 'operators', 'optimal_edit_paths', 'optimize_edit_paths', 'optimize_graph_edit_distance', 'ordered', 'out_degree_centrality', 'overall_reciprocity', 'pagerank', 'pagerank_alg', 'pagerank_numpy', 'pagerank_scipy', 'pairs', 'pajek', 'pappus_graph', 'parse_adjlist', 'parse_edgelist', 'parse_gml', 'parse_graphml', 'parse_leda', 'parse_multiline_adjlist', 'parse_pajek', 'partial_duplication_graph', 'path_graph', 'percolation', 'percolation_centrality', 'periphery', 'petersen_graph', 'planarity', 'planted_partition_graph', 'power', 'powerlaw_cluster_graph', 'predecessor', 'preferential_attachment', 'prefix_tree', 'product', 'project', 'projected_graph', 'quotient_graph', 'ra_index_soundarajan_hopcroft', 'radius', 'random_clustered', 'random_clustered_graph', 'random_degree_sequence_graph', 'random_geometric_graph', 'random_graphs', 'random_k_out_graph', 'random_kernel_graph', 'random_layout', 'random_lobster', 'random_partition_graph', 'random_powerlaw_tree', 'random_powerlaw_tree_sequence', 'random_reference', 'random_regular_graph', 'random_shell_graph', 'random_tree', 'reaching', 'read_adjlist', 'read_edgelist', 'read_gexf', 'read_gml', 'read_gpickle', 'read_graph6', 'read_graphml', 'read_leda', 'read_multiline_adjlist', 'read_pajek', 'read_shp', 'read_sparse6', 'read_weighted_edgelist', 'read_yaml', 'readwrite', 'reciprocity', 'reconstruct_path', 'recursive_simple_cycles', 'relabel', 'relabel_gexf_graph', 'relabel_nodes', 'relaxed_caveman_graph', 'release', 'reportviews', 'rescale_layout', 'resource_allocation_index', 'restricted_view', 'reverse', 'reverse_view', 'rich_club_coefficient', 'richclub', 'ring_of_cliques', 'rooted_product', 's_metric', 'scale_free_graph', 'second_order', 'second_order_centrality', 'sedgewick_maze_graph', 'selfloop_edges', 'semiconnected', 'set_edge_attributes', 'set_node_attributes', 'shell_layout', 'shortest_path', 'shortest_path_length', 'shortest_paths', 'shortest_simple_paths', 'sigma', 'similarity', 'simple_cycles', 'simple_paths', 'single_source_bellman_ford', 'single_source_bellman_ford_path', 'single_source_bellman_ford_path_length', 'single_source_dijkstra', 'single_source_dijkstra_path', 'single_source_dijkstra_path_length', 'single_source_shortest_path', 'single_source_shortest_path_length', 'single_target_shortest_path', 'single_target_shortest_path_length', 'small', 'smallworld', 'smetric', 'social', 'soft_random_geometric_graph', 'spanner', 'sparse6', 'sparsifiers', 'spectral_graph_forge', 'spectral_layout', 'spectral_ordering', 'spectrum', 'spring_layout', 'square_clustering', 'star_graph', 'stochastic', 'stochastic_block_model', 'stochastic_graph', 'stoer_wagner', 'strong_product', 'strongly_connected', 'strongly_connected_component_subgraphs', 'strongly_connected_components', 'strongly_connected_components_recursive', 'structuralholes', 'subgraph', 'subgraph_alg', 'subgraph_centrality', 'subgraph_centrality_exp', 'swap', 'symmetric_difference', 'tensor_product', 'test', 'tests', 'tetrahedral_graph', 'thresholded_random_geometric_graph', 'to_dict_of_dicts', 'to_dict_of_lists', 'to_directed', 'to_edgelist', 'to_graph6_bytes', 'to_nested_tuple', 'to_networkx_graph', 'to_numpy_array', 'to_numpy_matrix', 'to_numpy_recarray', 'to_pandas_adjacency', 'to_pandas_edgelist', 'to_prufer_sequence', 'to_scipy_sparse_matrix', 'to_sparse6_bytes', 'to_undirected', 'topological_sort', 'tournament', 'transitive_closure', 'transitive_reduction', 'transitivity', 'traversal', 'tree', 'tree_all_pairs_lowest_common_ancestor', 'tree_data', 'tree_graph', 'trees', 'triad_graph', 'triadic_census', 'triads', 'triangles', 'triangular_lattice_graph', 'trivial_graph', 'truncated_cube_graph', 'truncated_tetrahedron_graph', 'turan_graph', 'tutte_graph', 'unary', 'uniform_random_intersection_graph', 'union', 'union_all', 'unweighted', 'utils', 'vitality', 'volume', 'voronoi', 'voronoi_cells', 'watts_strogatz_graph', 'waxman_graph', 'weakly_connected', 'weakly_connected_component_subgraphs', 'weakly_connected_components', 'weighted', 'wheel_graph', 'wiener', 'wiener_index', 'windmill_graph', 'within_inter_cluster', 'write_adjlist', 'write_edgelist', 'write_gexf', 'write_gml', 'write_gpickle', 'write_graph6', 'write_graphml', 'write_graphml_lxml', 'write_graphml_xml', 'write_multiline_adjlist', 'write_pajek', 'write_shp', 'write_sparse6', 'write_weighted_edgelist', 'write_yaml']\n"
     ]
    },
    {
     "ename": "ValueError",
     "evalue": "too many values to unpack (expected 2)",
     "output_type": "error",
     "traceback": [
      "\u001b[0;31m---------------------------------------------------------------------------\u001b[0m",
      "\u001b[0;31mTypeError\u001b[0m                                 Traceback (most recent call last)",
      "\u001b[0;32m/anaconda3/lib/python3.7/site-packages/networkx/classes/graph.py\u001b[0m in \u001b[0;36madd_nodes_from\u001b[0;34m(self, nodes_for_adding, **attr)\u001b[0m\n\u001b[1;32m    553\u001b[0m             \u001b[0;32mtry\u001b[0m\u001b[0;34m:\u001b[0m\u001b[0;34m\u001b[0m\u001b[0;34m\u001b[0m\u001b[0m\n\u001b[0;32m--> 554\u001b[0;31m                 \u001b[0;32mif\u001b[0m \u001b[0mn\u001b[0m \u001b[0;32mnot\u001b[0m \u001b[0;32min\u001b[0m \u001b[0mself\u001b[0m\u001b[0;34m.\u001b[0m\u001b[0m_node\u001b[0m\u001b[0;34m:\u001b[0m\u001b[0;34m\u001b[0m\u001b[0;34m\u001b[0m\u001b[0m\n\u001b[0m\u001b[1;32m    555\u001b[0m                     \u001b[0mself\u001b[0m\u001b[0;34m.\u001b[0m\u001b[0m_adj\u001b[0m\u001b[0;34m[\u001b[0m\u001b[0mn\u001b[0m\u001b[0;34m]\u001b[0m \u001b[0;34m=\u001b[0m \u001b[0mself\u001b[0m\u001b[0;34m.\u001b[0m\u001b[0madjlist_inner_dict_factory\u001b[0m\u001b[0;34m(\u001b[0m\u001b[0;34m)\u001b[0m\u001b[0;34m\u001b[0m\u001b[0;34m\u001b[0m\u001b[0m\n",
      "\u001b[0;31mTypeError\u001b[0m: unhashable type: 'set'",
      "\nDuring handling of the above exception, another exception occurred:\n",
      "\u001b[0;31mValueError\u001b[0m                                Traceback (most recent call last)",
      "\u001b[0;32m<ipython-input-19-0d37a7fe1af3>\u001b[0m in \u001b[0;36m<module>\u001b[0;34m\u001b[0m\n\u001b[1;32m      1\u001b[0m \u001b[0;31m#plt.subplot(111)\u001b[0m\u001b[0;34m\u001b[0m\u001b[0;34m\u001b[0m\u001b[0;34m\u001b[0m\u001b[0m\n\u001b[1;32m      2\u001b[0m \u001b[0mprint\u001b[0m\u001b[0;34m(\u001b[0m\u001b[0mdir\u001b[0m\u001b[0;34m(\u001b[0m\u001b[0mnetworkx\u001b[0m\u001b[0;34m)\u001b[0m\u001b[0;34m)\u001b[0m\u001b[0;34m\u001b[0m\u001b[0;34m\u001b[0m\u001b[0m\n\u001b[0;32m----> 3\u001b[0;31m \u001b[0mnetworkx\u001b[0m\u001b[0;34m.\u001b[0m\u001b[0mdraw_networkx\u001b[0m\u001b[0;34m(\u001b[0m\u001b[0mclusters_refined\u001b[0m\u001b[0;34m,\u001b[0m \u001b[0mwith_labels\u001b[0m\u001b[0;34m=\u001b[0m\u001b[0;32mTrue\u001b[0m\u001b[0;34m,\u001b[0m \u001b[0mfont_weight\u001b[0m\u001b[0;34m=\u001b[0m\u001b[0;34m'bold'\u001b[0m\u001b[0;34m)\u001b[0m\u001b[0;34m\u001b[0m\u001b[0;34m\u001b[0m\u001b[0m\n\u001b[0m\u001b[1;32m      4\u001b[0m \u001b[0mplt\u001b[0m\u001b[0;34m.\u001b[0m\u001b[0mshow\u001b[0m\u001b[0;34m(\u001b[0m\u001b[0;34m)\u001b[0m\u001b[0;34m\u001b[0m\u001b[0;34m\u001b[0m\u001b[0m\n",
      "\u001b[0;32m/anaconda3/lib/python3.7/site-packages/networkx/drawing/nx_pylab.py\u001b[0m in \u001b[0;36mdraw_networkx\u001b[0;34m(G, pos, arrows, with_labels, **kwds)\u001b[0m\n\u001b[1;32m    273\u001b[0m \u001b[0;34m\u001b[0m\u001b[0m\n\u001b[1;32m    274\u001b[0m     \u001b[0;32mif\u001b[0m \u001b[0mpos\u001b[0m \u001b[0;32mis\u001b[0m \u001b[0;32mNone\u001b[0m\u001b[0;34m:\u001b[0m\u001b[0;34m\u001b[0m\u001b[0;34m\u001b[0m\u001b[0m\n\u001b[0;32m--> 275\u001b[0;31m         \u001b[0mpos\u001b[0m \u001b[0;34m=\u001b[0m \u001b[0mnx\u001b[0m\u001b[0;34m.\u001b[0m\u001b[0mdrawing\u001b[0m\u001b[0;34m.\u001b[0m\u001b[0mspring_layout\u001b[0m\u001b[0;34m(\u001b[0m\u001b[0mG\u001b[0m\u001b[0;34m)\u001b[0m  \u001b[0;31m# default to spring layout\u001b[0m\u001b[0;34m\u001b[0m\u001b[0;34m\u001b[0m\u001b[0m\n\u001b[0m\u001b[1;32m    276\u001b[0m \u001b[0;34m\u001b[0m\u001b[0m\n\u001b[1;32m    277\u001b[0m     \u001b[0mnode_collection\u001b[0m \u001b[0;34m=\u001b[0m \u001b[0mdraw_networkx_nodes\u001b[0m\u001b[0;34m(\u001b[0m\u001b[0mG\u001b[0m\u001b[0;34m,\u001b[0m \u001b[0mpos\u001b[0m\u001b[0;34m,\u001b[0m \u001b[0;34m**\u001b[0m\u001b[0mkwds\u001b[0m\u001b[0;34m)\u001b[0m\u001b[0;34m\u001b[0m\u001b[0;34m\u001b[0m\u001b[0m\n",
      "\u001b[0;32m<decorator-gen-782>\u001b[0m in \u001b[0;36mfruchterman_reingold_layout\u001b[0;34m(G, k, pos, fixed, iterations, threshold, weight, scale, center, dim, seed)\u001b[0m\n",
      "\u001b[0;32m/anaconda3/lib/python3.7/site-packages/networkx/utils/decorators.py\u001b[0m in \u001b[0;36m_random_state\u001b[0;34m(func, *args, **kwargs)\u001b[0m\n\u001b[1;32m    403\u001b[0m         \u001b[0mnew_args\u001b[0m \u001b[0;34m=\u001b[0m \u001b[0mlist\u001b[0m\u001b[0;34m(\u001b[0m\u001b[0margs\u001b[0m\u001b[0;34m)\u001b[0m\u001b[0;34m\u001b[0m\u001b[0;34m\u001b[0m\u001b[0m\n\u001b[1;32m    404\u001b[0m         \u001b[0mnew_args\u001b[0m\u001b[0;34m[\u001b[0m\u001b[0mrandom_state_index\u001b[0m\u001b[0;34m]\u001b[0m \u001b[0;34m=\u001b[0m \u001b[0mrandom_state\u001b[0m\u001b[0;34m\u001b[0m\u001b[0;34m\u001b[0m\u001b[0m\n\u001b[0;32m--> 405\u001b[0;31m         \u001b[0;32mreturn\u001b[0m \u001b[0mfunc\u001b[0m\u001b[0;34m(\u001b[0m\u001b[0;34m*\u001b[0m\u001b[0mnew_args\u001b[0m\u001b[0;34m,\u001b[0m \u001b[0;34m**\u001b[0m\u001b[0mkwargs\u001b[0m\u001b[0;34m)\u001b[0m\u001b[0;34m\u001b[0m\u001b[0;34m\u001b[0m\u001b[0m\n\u001b[0m\u001b[1;32m    406\u001b[0m     \u001b[0;32mreturn\u001b[0m \u001b[0m_random_state\u001b[0m\u001b[0;34m\u001b[0m\u001b[0;34m\u001b[0m\u001b[0m\n\u001b[1;32m    407\u001b[0m \u001b[0;34m\u001b[0m\u001b[0m\n",
      "\u001b[0;32m/anaconda3/lib/python3.7/site-packages/networkx/drawing/layout.py\u001b[0m in \u001b[0;36mfruchterman_reingold_layout\u001b[0;34m(G, k, pos, fixed, iterations, threshold, weight, scale, center, dim, seed)\u001b[0m\n\u001b[1;32m    422\u001b[0m     \u001b[0;32mimport\u001b[0m \u001b[0mnumpy\u001b[0m \u001b[0;32mas\u001b[0m \u001b[0mnp\u001b[0m\u001b[0;34m\u001b[0m\u001b[0;34m\u001b[0m\u001b[0m\n\u001b[1;32m    423\u001b[0m \u001b[0;34m\u001b[0m\u001b[0m\n\u001b[0;32m--> 424\u001b[0;31m     \u001b[0mG\u001b[0m\u001b[0;34m,\u001b[0m \u001b[0mcenter\u001b[0m \u001b[0;34m=\u001b[0m \u001b[0m_process_params\u001b[0m\u001b[0;34m(\u001b[0m\u001b[0mG\u001b[0m\u001b[0;34m,\u001b[0m \u001b[0mcenter\u001b[0m\u001b[0;34m,\u001b[0m \u001b[0mdim\u001b[0m\u001b[0;34m)\u001b[0m\u001b[0;34m\u001b[0m\u001b[0;34m\u001b[0m\u001b[0m\n\u001b[0m\u001b[1;32m    425\u001b[0m \u001b[0;34m\u001b[0m\u001b[0m\n\u001b[1;32m    426\u001b[0m     \u001b[0;32mif\u001b[0m \u001b[0mfixed\u001b[0m \u001b[0;32mis\u001b[0m \u001b[0;32mnot\u001b[0m \u001b[0;32mNone\u001b[0m\u001b[0;34m:\u001b[0m\u001b[0;34m\u001b[0m\u001b[0;34m\u001b[0m\u001b[0m\n",
      "\u001b[0;32m/anaconda3/lib/python3.7/site-packages/networkx/drawing/layout.py\u001b[0m in \u001b[0;36m_process_params\u001b[0;34m(G, center, dim)\u001b[0m\n\u001b[1;32m     47\u001b[0m     \u001b[0;32mif\u001b[0m \u001b[0;32mnot\u001b[0m \u001b[0misinstance\u001b[0m\u001b[0;34m(\u001b[0m\u001b[0mG\u001b[0m\u001b[0;34m,\u001b[0m \u001b[0mnx\u001b[0m\u001b[0;34m.\u001b[0m\u001b[0mGraph\u001b[0m\u001b[0;34m)\u001b[0m\u001b[0;34m:\u001b[0m\u001b[0;34m\u001b[0m\u001b[0;34m\u001b[0m\u001b[0m\n\u001b[1;32m     48\u001b[0m         \u001b[0mempty_graph\u001b[0m \u001b[0;34m=\u001b[0m \u001b[0mnx\u001b[0m\u001b[0;34m.\u001b[0m\u001b[0mGraph\u001b[0m\u001b[0;34m(\u001b[0m\u001b[0;34m)\u001b[0m\u001b[0;34m\u001b[0m\u001b[0;34m\u001b[0m\u001b[0m\n\u001b[0;32m---> 49\u001b[0;31m         \u001b[0mempty_graph\u001b[0m\u001b[0;34m.\u001b[0m\u001b[0madd_nodes_from\u001b[0m\u001b[0;34m(\u001b[0m\u001b[0mG\u001b[0m\u001b[0;34m)\u001b[0m\u001b[0;34m\u001b[0m\u001b[0;34m\u001b[0m\u001b[0m\n\u001b[0m\u001b[1;32m     50\u001b[0m         \u001b[0mG\u001b[0m \u001b[0;34m=\u001b[0m \u001b[0mempty_graph\u001b[0m\u001b[0;34m\u001b[0m\u001b[0;34m\u001b[0m\u001b[0m\n\u001b[1;32m     51\u001b[0m \u001b[0;34m\u001b[0m\u001b[0m\n",
      "\u001b[0;32m/anaconda3/lib/python3.7/site-packages/networkx/classes/graph.py\u001b[0m in \u001b[0;36madd_nodes_from\u001b[0;34m(self, nodes_for_adding, **attr)\u001b[0m\n\u001b[1;32m    558\u001b[0m                     \u001b[0mself\u001b[0m\u001b[0;34m.\u001b[0m\u001b[0m_node\u001b[0m\u001b[0;34m[\u001b[0m\u001b[0mn\u001b[0m\u001b[0;34m]\u001b[0m\u001b[0;34m.\u001b[0m\u001b[0mupdate\u001b[0m\u001b[0;34m(\u001b[0m\u001b[0mattr\u001b[0m\u001b[0;34m)\u001b[0m\u001b[0;34m\u001b[0m\u001b[0;34m\u001b[0m\u001b[0m\n\u001b[1;32m    559\u001b[0m             \u001b[0;32mexcept\u001b[0m \u001b[0mTypeError\u001b[0m\u001b[0;34m:\u001b[0m\u001b[0;34m\u001b[0m\u001b[0;34m\u001b[0m\u001b[0m\n\u001b[0;32m--> 560\u001b[0;31m                 \u001b[0mnn\u001b[0m\u001b[0;34m,\u001b[0m \u001b[0mndict\u001b[0m \u001b[0;34m=\u001b[0m \u001b[0mn\u001b[0m\u001b[0;34m\u001b[0m\u001b[0;34m\u001b[0m\u001b[0m\n\u001b[0m\u001b[1;32m    561\u001b[0m                 \u001b[0;32mif\u001b[0m \u001b[0mnn\u001b[0m \u001b[0;32mnot\u001b[0m \u001b[0;32min\u001b[0m \u001b[0mself\u001b[0m\u001b[0;34m.\u001b[0m\u001b[0m_node\u001b[0m\u001b[0;34m:\u001b[0m\u001b[0;34m\u001b[0m\u001b[0;34m\u001b[0m\u001b[0m\n\u001b[1;32m    562\u001b[0m                     \u001b[0mself\u001b[0m\u001b[0;34m.\u001b[0m\u001b[0m_adj\u001b[0m\u001b[0;34m[\u001b[0m\u001b[0mnn\u001b[0m\u001b[0;34m]\u001b[0m \u001b[0;34m=\u001b[0m \u001b[0mself\u001b[0m\u001b[0;34m.\u001b[0m\u001b[0madjlist_inner_dict_factory\u001b[0m\u001b[0;34m(\u001b[0m\u001b[0;34m)\u001b[0m\u001b[0;34m\u001b[0m\u001b[0;34m\u001b[0m\u001b[0m\n",
      "\u001b[0;31mValueError\u001b[0m: too many values to unpack (expected 2)"
     ]
    }
   ],
   "source": [
    "plt.subplot(111)\n",
    "networkx.draw_circular(clusters_refined, with_labels=True, font_weight='bold')\n",
    "plt.show()"
   ]
  },
  {
   "cell_type": "code",
   "execution_count": null,
   "metadata": {},
   "outputs": [],
   "source": []
  }
 ],
 "metadata": {
  "kernelspec": {
   "display_name": "Python 3",
   "language": "python",
   "name": "python3"
  },
  "language_info": {
   "codemirror_mode": {
    "name": "ipython",
    "version": 3
   },
   "file_extension": ".py",
   "mimetype": "text/x-python",
   "name": "python",
   "nbconvert_exporter": "python",
   "pygments_lexer": "ipython3",
   "version": "3.7.1"
  }
 },
 "nbformat": 4,
 "nbformat_minor": 2
}
